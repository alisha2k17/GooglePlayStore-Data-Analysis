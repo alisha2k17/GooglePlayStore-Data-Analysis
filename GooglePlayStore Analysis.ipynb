{
 "cells": [
  {
   "cell_type": "code",
   "execution_count": 164,
   "id": "b1ea372e",
   "metadata": {},
   "outputs": [
    {
     "name": "stdout",
     "output_type": "stream",
     "text": [
      "Requirement already satisfied: pandas in c:\\users\\alisha\\anaconda3\\lib\\site-packages (1.4.4)\n",
      "Requirement already satisfied: numpy>=1.18.5 in c:\\users\\alisha\\anaconda3\\lib\\site-packages (from pandas) (1.21.5)\n",
      "Requirement already satisfied: python-dateutil>=2.8.1 in c:\\users\\alisha\\anaconda3\\lib\\site-packages (from pandas) (2.8.2)\n",
      "Requirement already satisfied: pytz>=2020.1 in c:\\users\\alisha\\anaconda3\\lib\\site-packages (from pandas) (2022.1)\n",
      "Requirement already satisfied: six>=1.5 in c:\\users\\alisha\\anaconda3\\lib\\site-packages (from python-dateutil>=2.8.1->pandas) (1.16.0)\n"
     ]
    }
   ],
   "source": [
    "!pip install pandas"
   ]
  },
  {
   "cell_type": "code",
   "execution_count": 165,
   "id": "1e829c98",
   "metadata": {},
   "outputs": [
    {
     "name": "stdout",
     "output_type": "stream",
     "text": [
      "Requirement already satisfied: sklearn in c:\\users\\alisha\\anaconda3\\lib\\site-packages (0.0.post1)\n"
     ]
    }
   ],
   "source": [
    "!pip install sklearn"
   ]
  },
  {
   "cell_type": "code",
   "execution_count": 259,
   "id": "13e4cf12",
   "metadata": {},
   "outputs": [],
   "source": [
    "import numpy as np\n",
    "import pandas as pd\n",
    "from sklearn.impute import SimpleImputer"
   ]
  },
  {
   "cell_type": "code",
   "execution_count": 260,
   "id": "ee21d538",
   "metadata": {},
   "outputs": [],
   "source": [
    "data= pd.read_csv(\"googleplaystore.csv\")"
   ]
  },
  {
   "cell_type": "code",
   "execution_count": 262,
   "id": "bbee320b",
   "metadata": {},
   "outputs": [
    {
     "data": {
      "text/html": [
       "<div>\n",
       "<style scoped>\n",
       "    .dataframe tbody tr th:only-of-type {\n",
       "        vertical-align: middle;\n",
       "    }\n",
       "\n",
       "    .dataframe tbody tr th {\n",
       "        vertical-align: top;\n",
       "    }\n",
       "\n",
       "    .dataframe thead th {\n",
       "        text-align: right;\n",
       "    }\n",
       "</style>\n",
       "<table border=\"1\" class=\"dataframe\">\n",
       "  <thead>\n",
       "    <tr style=\"text-align: right;\">\n",
       "      <th></th>\n",
       "      <th>App</th>\n",
       "      <th>Category</th>\n",
       "      <th>Rating</th>\n",
       "      <th>Reviews</th>\n",
       "      <th>Size</th>\n",
       "      <th>Installs</th>\n",
       "      <th>Type</th>\n",
       "      <th>Price</th>\n",
       "      <th>Content Rating</th>\n",
       "      <th>Genres</th>\n",
       "      <th>Last Updated</th>\n",
       "      <th>Current Ver</th>\n",
       "      <th>Android Ver</th>\n",
       "    </tr>\n",
       "  </thead>\n",
       "  <tbody>\n",
       "    <tr>\n",
       "      <th>0</th>\n",
       "      <td>Photo Editor &amp; Candy Camera &amp; Grid &amp; ScrapBook</td>\n",
       "      <td>ART_AND_DESIGN</td>\n",
       "      <td>4.100000</td>\n",
       "      <td>159</td>\n",
       "      <td>19M</td>\n",
       "      <td>10,000+</td>\n",
       "      <td>Free</td>\n",
       "      <td>0</td>\n",
       "      <td>Everyone</td>\n",
       "      <td>Art &amp; Design</td>\n",
       "      <td>January 7, 2018</td>\n",
       "      <td>1.0.0</td>\n",
       "      <td>4.0.3 and up</td>\n",
       "    </tr>\n",
       "    <tr>\n",
       "      <th>1</th>\n",
       "      <td>Coloring book moana</td>\n",
       "      <td>ART_AND_DESIGN</td>\n",
       "      <td>3.900000</td>\n",
       "      <td>967</td>\n",
       "      <td>14M</td>\n",
       "      <td>500,000+</td>\n",
       "      <td>Free</td>\n",
       "      <td>0</td>\n",
       "      <td>Everyone</td>\n",
       "      <td>Art &amp; Design;Pretend Play</td>\n",
       "      <td>January 15, 2018</td>\n",
       "      <td>2.0.0</td>\n",
       "      <td>4.0.3 and up</td>\n",
       "    </tr>\n",
       "    <tr>\n",
       "      <th>2</th>\n",
       "      <td>U Launcher Lite – FREE Live Cool Themes, Hide ...</td>\n",
       "      <td>ART_AND_DESIGN</td>\n",
       "      <td>4.700000</td>\n",
       "      <td>87510</td>\n",
       "      <td>8.7M</td>\n",
       "      <td>5,000,000+</td>\n",
       "      <td>Free</td>\n",
       "      <td>0</td>\n",
       "      <td>Everyone</td>\n",
       "      <td>Art &amp; Design</td>\n",
       "      <td>August 1, 2018</td>\n",
       "      <td>1.2.4</td>\n",
       "      <td>4.0.3 and up</td>\n",
       "    </tr>\n",
       "    <tr>\n",
       "      <th>3</th>\n",
       "      <td>Sketch - Draw &amp; Paint</td>\n",
       "      <td>ART_AND_DESIGN</td>\n",
       "      <td>4.500000</td>\n",
       "      <td>215644</td>\n",
       "      <td>25M</td>\n",
       "      <td>50,000,000+</td>\n",
       "      <td>Free</td>\n",
       "      <td>0</td>\n",
       "      <td>Teen</td>\n",
       "      <td>Art &amp; Design</td>\n",
       "      <td>June 8, 2018</td>\n",
       "      <td>Varies with device</td>\n",
       "      <td>4.2 and up</td>\n",
       "    </tr>\n",
       "    <tr>\n",
       "      <th>4</th>\n",
       "      <td>Pixel Draw - Number Art Coloring Book</td>\n",
       "      <td>ART_AND_DESIGN</td>\n",
       "      <td>4.300000</td>\n",
       "      <td>967</td>\n",
       "      <td>2.8M</td>\n",
       "      <td>100,000+</td>\n",
       "      <td>Free</td>\n",
       "      <td>0</td>\n",
       "      <td>Everyone</td>\n",
       "      <td>Art &amp; Design;Creativity</td>\n",
       "      <td>June 20, 2018</td>\n",
       "      <td>1.1</td>\n",
       "      <td>4.4 and up</td>\n",
       "    </tr>\n",
       "    <tr>\n",
       "      <th>...</th>\n",
       "      <td>...</td>\n",
       "      <td>...</td>\n",
       "      <td>...</td>\n",
       "      <td>...</td>\n",
       "      <td>...</td>\n",
       "      <td>...</td>\n",
       "      <td>...</td>\n",
       "      <td>...</td>\n",
       "      <td>...</td>\n",
       "      <td>...</td>\n",
       "      <td>...</td>\n",
       "      <td>...</td>\n",
       "      <td>...</td>\n",
       "    </tr>\n",
       "    <tr>\n",
       "      <th>10836</th>\n",
       "      <td>Sya9a Maroc - FR</td>\n",
       "      <td>FAMILY</td>\n",
       "      <td>4.500000</td>\n",
       "      <td>38</td>\n",
       "      <td>53M</td>\n",
       "      <td>5,000+</td>\n",
       "      <td>Free</td>\n",
       "      <td>0</td>\n",
       "      <td>Everyone</td>\n",
       "      <td>Education</td>\n",
       "      <td>July 25, 2017</td>\n",
       "      <td>1.48</td>\n",
       "      <td>4.1 and up</td>\n",
       "    </tr>\n",
       "    <tr>\n",
       "      <th>10837</th>\n",
       "      <td>Fr. Mike Schmitz Audio Teachings</td>\n",
       "      <td>FAMILY</td>\n",
       "      <td>5.000000</td>\n",
       "      <td>4</td>\n",
       "      <td>3.6M</td>\n",
       "      <td>100+</td>\n",
       "      <td>Free</td>\n",
       "      <td>0</td>\n",
       "      <td>Everyone</td>\n",
       "      <td>Education</td>\n",
       "      <td>July 6, 2018</td>\n",
       "      <td>1.0</td>\n",
       "      <td>4.1 and up</td>\n",
       "    </tr>\n",
       "    <tr>\n",
       "      <th>10838</th>\n",
       "      <td>Parkinson Exercices FR</td>\n",
       "      <td>MEDICAL</td>\n",
       "      <td>4.193338</td>\n",
       "      <td>3</td>\n",
       "      <td>9.5M</td>\n",
       "      <td>1,000+</td>\n",
       "      <td>Free</td>\n",
       "      <td>0</td>\n",
       "      <td>Everyone</td>\n",
       "      <td>Medical</td>\n",
       "      <td>January 20, 2017</td>\n",
       "      <td>1.0</td>\n",
       "      <td>2.2 and up</td>\n",
       "    </tr>\n",
       "    <tr>\n",
       "      <th>10839</th>\n",
       "      <td>The SCP Foundation DB fr nn5n</td>\n",
       "      <td>BOOKS_AND_REFERENCE</td>\n",
       "      <td>4.500000</td>\n",
       "      <td>114</td>\n",
       "      <td>Varies with device</td>\n",
       "      <td>1,000+</td>\n",
       "      <td>Free</td>\n",
       "      <td>0</td>\n",
       "      <td>Mature 17+</td>\n",
       "      <td>Books &amp; Reference</td>\n",
       "      <td>January 19, 2015</td>\n",
       "      <td>Varies with device</td>\n",
       "      <td>Varies with device</td>\n",
       "    </tr>\n",
       "    <tr>\n",
       "      <th>10840</th>\n",
       "      <td>iHoroscope - 2018 Daily Horoscope &amp; Astrology</td>\n",
       "      <td>LIFESTYLE</td>\n",
       "      <td>4.500000</td>\n",
       "      <td>398307</td>\n",
       "      <td>19M</td>\n",
       "      <td>10,000,000+</td>\n",
       "      <td>Free</td>\n",
       "      <td>0</td>\n",
       "      <td>Everyone</td>\n",
       "      <td>Lifestyle</td>\n",
       "      <td>July 25, 2018</td>\n",
       "      <td>Varies with device</td>\n",
       "      <td>Varies with device</td>\n",
       "    </tr>\n",
       "  </tbody>\n",
       "</table>\n",
       "<p>10829 rows × 13 columns</p>\n",
       "</div>"
      ],
      "text/plain": [
       "                                                     App             Category  \\\n",
       "0         Photo Editor & Candy Camera & Grid & ScrapBook       ART_AND_DESIGN   \n",
       "1                                    Coloring book moana       ART_AND_DESIGN   \n",
       "2      U Launcher Lite – FREE Live Cool Themes, Hide ...       ART_AND_DESIGN   \n",
       "3                                  Sketch - Draw & Paint       ART_AND_DESIGN   \n",
       "4                  Pixel Draw - Number Art Coloring Book       ART_AND_DESIGN   \n",
       "...                                                  ...                  ...   \n",
       "10836                                   Sya9a Maroc - FR               FAMILY   \n",
       "10837                   Fr. Mike Schmitz Audio Teachings               FAMILY   \n",
       "10838                             Parkinson Exercices FR              MEDICAL   \n",
       "10839                      The SCP Foundation DB fr nn5n  BOOKS_AND_REFERENCE   \n",
       "10840      iHoroscope - 2018 Daily Horoscope & Astrology            LIFESTYLE   \n",
       "\n",
       "         Rating Reviews                Size     Installs  Type Price  \\\n",
       "0      4.100000     159                 19M      10,000+  Free     0   \n",
       "1      3.900000     967                 14M     500,000+  Free     0   \n",
       "2      4.700000   87510                8.7M   5,000,000+  Free     0   \n",
       "3      4.500000  215644                 25M  50,000,000+  Free     0   \n",
       "4      4.300000     967                2.8M     100,000+  Free     0   \n",
       "...         ...     ...                 ...          ...   ...   ...   \n",
       "10836  4.500000      38                 53M       5,000+  Free     0   \n",
       "10837  5.000000       4                3.6M         100+  Free     0   \n",
       "10838  4.193338       3                9.5M       1,000+  Free     0   \n",
       "10839  4.500000     114  Varies with device       1,000+  Free     0   \n",
       "10840  4.500000  398307                 19M  10,000,000+  Free     0   \n",
       "\n",
       "      Content Rating                     Genres      Last Updated  \\\n",
       "0           Everyone               Art & Design   January 7, 2018   \n",
       "1           Everyone  Art & Design;Pretend Play  January 15, 2018   \n",
       "2           Everyone               Art & Design    August 1, 2018   \n",
       "3               Teen               Art & Design      June 8, 2018   \n",
       "4           Everyone    Art & Design;Creativity     June 20, 2018   \n",
       "...              ...                        ...               ...   \n",
       "10836       Everyone                  Education     July 25, 2017   \n",
       "10837       Everyone                  Education      July 6, 2018   \n",
       "10838       Everyone                    Medical  January 20, 2017   \n",
       "10839     Mature 17+          Books & Reference  January 19, 2015   \n",
       "10840       Everyone                  Lifestyle     July 25, 2018   \n",
       "\n",
       "              Current Ver         Android Ver  \n",
       "0                   1.0.0        4.0.3 and up  \n",
       "1                   2.0.0        4.0.3 and up  \n",
       "2                   1.2.4        4.0.3 and up  \n",
       "3      Varies with device          4.2 and up  \n",
       "4                     1.1          4.4 and up  \n",
       "...                   ...                 ...  \n",
       "10836                1.48          4.1 and up  \n",
       "10837                 1.0          4.1 and up  \n",
       "10838                 1.0          2.2 and up  \n",
       "10839  Varies with device  Varies with device  \n",
       "10840  Varies with device  Varies with device  \n",
       "\n",
       "[10829 rows x 13 columns]"
      ]
     },
     "execution_count": 262,
     "metadata": {},
     "output_type": "execute_result"
    }
   ],
   "source": [
    "impute= SimpleImputer(missing_values=np.nan,strategy='mean')\n",
    "impute.fit(data.iloc[:,2:3].values)\n",
    "impute.transform(data.iloc[:,2:3].values)\n",
    "data.iloc[:,2:3] = impute.transform(data.iloc[:,2:3].values)\n",
    "data = data.dropna()\n",
    "data"
   ]
  },
  {
   "cell_type": "code",
   "execution_count": 263,
   "id": "b8d94846",
   "metadata": {},
   "outputs": [
    {
     "data": {
      "text/plain": [
       "App               0\n",
       "Category          0\n",
       "Rating            0\n",
       "Reviews           0\n",
       "Size              0\n",
       "Installs          0\n",
       "Type              0\n",
       "Price             0\n",
       "Content Rating    0\n",
       "Genres            0\n",
       "Last Updated      0\n",
       "Current Ver       0\n",
       "Android Ver       0\n",
       "dtype: int64"
      ]
     },
     "execution_count": 263,
     "metadata": {},
     "output_type": "execute_result"
    }
   ],
   "source": [
    "data.isnull().sum()"
   ]
  },
  {
   "cell_type": "markdown",
   "id": "82a9c19d",
   "metadata": {},
   "source": [
    "## Analysis on Numerical Data"
   ]
  },
  {
   "cell_type": "markdown",
   "id": "74aeb72f",
   "metadata": {},
   "source": [
    "## Average Rating"
   ]
  },
  {
   "cell_type": "code",
   "execution_count": 264,
   "id": "4858fc6b",
   "metadata": {},
   "outputs": [],
   "source": [
    "s =0\n",
    "for i in data['Rating']:\n",
    "    s+=i\n",
    "avg = round(s/len(data['Rating']))\n"
   ]
  },
  {
   "cell_type": "code",
   "execution_count": 265,
   "id": "15978d5d",
   "metadata": {},
   "outputs": [
    {
     "data": {
      "text/plain": [
       "4"
      ]
     },
     "execution_count": 265,
     "metadata": {},
     "output_type": "execute_result"
    }
   ],
   "source": [
    "avg"
   ]
  },
  {
   "cell_type": "markdown",
   "id": "f8b83d44",
   "metadata": {},
   "source": [
    "## Number of Apps with Rating 5"
   ]
  },
  {
   "cell_type": "code",
   "execution_count": 266,
   "id": "b55dbe42",
   "metadata": {},
   "outputs": [
    {
     "name": "stdout",
     "output_type": "stream",
     "text": [
      "There are 274 apps with rating 5\n"
     ]
    }
   ],
   "source": [
    "count=0\n",
    "for i in data['Rating']:\n",
    "    if i==5:\n",
    "        count+=1\n",
    "print(\"There are\",count,\"apps with rating 5\")"
   ]
  },
  {
   "cell_type": "markdown",
   "id": "b28c18d5",
   "metadata": {},
   "source": [
    "## Number of Apps with rating between 4 and 4.5"
   ]
  },
  {
   "cell_type": "code",
   "execution_count": 267,
   "id": "f80b76b7",
   "metadata": {},
   "outputs": [
    {
     "name": "stdout",
     "output_type": "stream",
     "text": [
      "There are 6915 apps with rating 5\n"
     ]
    }
   ],
   "source": [
    "count=0\n",
    "for i in data['Rating']:\n",
    "    if i>=4 and i<=4.5:\n",
    "        count+=1\n",
    "print(\"There are\",count,\"apps with rating 5\")"
   ]
  },
  {
   "cell_type": "markdown",
   "id": "491f2863",
   "metadata": {},
   "source": [
    "## Average of Apps Reviews"
   ]
  },
  {
   "cell_type": "code",
   "execution_count": 268,
   "id": "63638bad",
   "metadata": {},
   "outputs": [
    {
     "name": "stdout",
     "output_type": "stream",
     "text": [
      "Average Reviews of the total apps are: 444602\n"
     ]
    }
   ],
   "source": [
    "s =0\n",
    "for i in data['Reviews']:\n",
    "    s+=int(i)\n",
    "avgrev = round(s/len(data['Reviews']))\n",
    "print(\"Average Reviews of the total apps are:\",avgrev)"
   ]
  },
  {
   "cell_type": "markdown",
   "id": "ee8a14d3",
   "metadata": {},
   "source": [
    "## Analysis on Categorical Data"
   ]
  },
  {
   "cell_type": "markdown",
   "id": "0878d80c",
   "metadata": {},
   "source": [
    "## Total Unique Categories in App"
   ]
  },
  {
   "cell_type": "code",
   "execution_count": 269,
   "id": "bca8bfd9",
   "metadata": {},
   "outputs": [
    {
     "data": {
      "text/plain": [
       "array(['ART_AND_DESIGN', 'AUTO_AND_VEHICLES', 'BEAUTY',\n",
       "       'BOOKS_AND_REFERENCE', 'BUSINESS', 'COMICS', 'COMMUNICATION',\n",
       "       'DATING', 'EDUCATION', 'ENTERTAINMENT', 'EVENTS', 'FINANCE',\n",
       "       'FOOD_AND_DRINK', 'HEALTH_AND_FITNESS', 'HOUSE_AND_HOME',\n",
       "       'LIBRARIES_AND_DEMO', 'LIFESTYLE', 'GAME', 'FAMILY', 'MEDICAL',\n",
       "       'SOCIAL', 'SHOPPING', 'PHOTOGRAPHY', 'SPORTS', 'TRAVEL_AND_LOCAL',\n",
       "       'TOOLS', 'PERSONALIZATION', 'PRODUCTIVITY', 'PARENTING', 'WEATHER',\n",
       "       'VIDEO_PLAYERS', 'NEWS_AND_MAGAZINES', 'MAPS_AND_NAVIGATION'],\n",
       "      dtype=object)"
      ]
     },
     "execution_count": 269,
     "metadata": {},
     "output_type": "execute_result"
    }
   ],
   "source": [
    "data['Category'].unique()"
   ]
  },
  {
   "cell_type": "code",
   "execution_count": 270,
   "id": "9285e6fa",
   "metadata": {},
   "outputs": [
    {
     "name": "stdout",
     "output_type": "stream",
     "text": [
      "Total number of unique categories are: 33\n"
     ]
    }
   ],
   "source": [
    "n = data['Category'].nunique()\n",
    "print(\"Total number of unique categories are:\", n)"
   ]
  },
  {
   "cell_type": "markdown",
   "id": "05ba9567",
   "metadata": {},
   "source": [
    "## Total apps with category \"ART_AND_DESIGN\" "
   ]
  },
  {
   "cell_type": "code",
   "execution_count": 271,
   "id": "e35c7cc6",
   "metadata": {},
   "outputs": [
    {
     "name": "stdout",
     "output_type": "stream",
     "text": [
      "Number of Apps with category ART_AND_DESIGN: 64\n"
     ]
    }
   ],
   "source": [
    "c =0\n",
    "for i in data['Category']:\n",
    "    if i=='ART_AND_DESIGN':\n",
    "        c+=1\n",
    "print(\"Number of Apps with category ART_AND_DESIGN:\", c)"
   ]
  },
  {
   "cell_type": "markdown",
   "id": "8019006d",
   "metadata": {},
   "source": [
    "## Total number of FREE and PAID apps"
   ]
  },
  {
   "cell_type": "code",
   "execution_count": 272,
   "id": "115f7d9f",
   "metadata": {},
   "outputs": [
    {
     "name": "stdout",
     "output_type": "stream",
     "text": [
      "Number of Free apps: 10032\n",
      "Number of Paid apps: 797\n"
     ]
    }
   ],
   "source": [
    "f =0\n",
    "p = 0\n",
    "for i in data['Type']:\n",
    "    if i == \"Free\":\n",
    "        f+=1\n",
    "    elif i == \"Paid\":\n",
    "        p+=1\n",
    "print(\"Number of Free apps:\", f)\n",
    "print(\"Number of Paid apps:\", p)"
   ]
  },
  {
   "cell_type": "markdown",
   "id": "22ffffc5",
   "metadata": {},
   "source": [
    "## Percentage of Free and Paid Apps"
   ]
  },
  {
   "cell_type": "code",
   "execution_count": 273,
   "id": "96c5b9bc",
   "metadata": {},
   "outputs": [
    {
     "name": "stdout",
     "output_type": "stream",
     "text": [
      "A total of  92.64 apps are free and  7.36 apps are paid\n"
     ]
    }
   ],
   "source": [
    "ff = f/len(data['Type'])*100\n",
    "ff=round(ff,2)\n",
    "pp = 100-ff\n",
    "pp=round(pp,2)\n",
    "print(\"A total of \",ff,\"apps are free and \",pp,\"apps are paid\")"
   ]
  },
  {
   "cell_type": "markdown",
   "id": "0b12f7b5",
   "metadata": {},
   "source": [
    "## Total Number of Apps in each Category"
   ]
  },
  {
   "cell_type": "code",
   "execution_count": 274,
   "id": "efc74771",
   "metadata": {},
   "outputs": [
    {
     "data": {
      "text/plain": [
       "{'ART_AND_DESIGN': 64,\n",
       " 'AUTO_AND_VEHICLES': 149,\n",
       " 'BEAUTY': 202,\n",
       " 'BOOKS_AND_REFERENCE': 432,\n",
       " 'BUSINESS': 892,\n",
       " 'COMICS': 952,\n",
       " 'COMMUNICATION': 1339,\n",
       " 'DATING': 1573,\n",
       " 'EDUCATION': 1729,\n",
       " 'ENTERTAINMENT': 1878,\n",
       " 'EVENTS': 1942,\n",
       " 'FINANCE': 2308,\n",
       " 'FOOD_AND_DRINK': 2435,\n",
       " 'HEALTH_AND_FITNESS': 2776,\n",
       " 'HOUSE_AND_HOME': 2864,\n",
       " 'LIBRARIES_AND_DEMO': 2948,\n",
       " 'LIFESTYLE': 3330,\n",
       " 'GAME': 4474,\n",
       " 'FAMILY': 6442,\n",
       " 'MEDICAL': 6905,\n",
       " 'SOCIAL': 7200,\n",
       " 'SHOPPING': 7460,\n",
       " 'PHOTOGRAPHY': 7795,\n",
       " 'SPORTS': 8179,\n",
       " 'TRAVEL_AND_LOCAL': 8437,\n",
       " 'TOOLS': 9278,\n",
       " 'PERSONALIZATION': 9668,\n",
       " 'PRODUCTIVITY': 10092,\n",
       " 'PARENTING': 10152,\n",
       " 'WEATHER': 10234,\n",
       " 'VIDEO_PLAYERS': 10409,\n",
       " 'NEWS_AND_MAGAZINES': 10692,\n",
       " 'MAPS_AND_NAVIGATION': 10829}"
      ]
     },
     "execution_count": 274,
     "metadata": {},
     "output_type": "execute_result"
    }
   ],
   "source": [
    "categories = {}\n",
    "c=0\n",
    "for name in data['Category'].unique():\n",
    "    for i in data['Category']:\n",
    "        if i==name:\n",
    "            c+=1\n",
    "    categories[name]=c\n",
    "categories\n",
    "            "
   ]
  },
  {
   "cell_type": "markdown",
   "id": "f93ba6aa",
   "metadata": {},
   "source": [
    "## Total Number of Apps in Each Type"
   ]
  },
  {
   "cell_type": "code",
   "execution_count": 275,
   "id": "184355d5",
   "metadata": {},
   "outputs": [
    {
     "name": "stdout",
     "output_type": "stream",
     "text": [
      "{'Free': 10032, 'Paid': 797}\n"
     ]
    }
   ],
   "source": [
    "types = {}\n",
    "for name in data['Type'].unique():\n",
    "    s=0\n",
    "    for i in data['Type']:\n",
    "        if (i==name):\n",
    "            s+=1\n",
    "    types[name]=s\n",
    "print(types)"
   ]
  },
  {
   "cell_type": "markdown",
   "id": "7051f4a7",
   "metadata": {},
   "source": [
    "## Total Number of Apps in Content Rating"
   ]
  },
  {
   "cell_type": "code",
   "execution_count": 276,
   "id": "ef845bc9",
   "metadata": {},
   "outputs": [
    {
     "data": {
      "text/plain": [
       "{'Everyone': 8704,\n",
       " 'Teen': 9912,\n",
       " 'Everyone 10+': 10325,\n",
       " 'Mature 17+': 10824,\n",
       " 'Adults only 18+': 10827,\n",
       " 'Unrated': 10829}"
      ]
     },
     "execution_count": 276,
     "metadata": {},
     "output_type": "execute_result"
    }
   ],
   "source": [
    "contentRate = {}\n",
    "cr=0\n",
    "for name in data['Content Rating'].unique():\n",
    "    for i in data['Content Rating']:\n",
    "        if name==i:\n",
    "            cr+=1\n",
    "    contentRate[name]=cr\n",
    "contentRate"
   ]
  },
  {
   "cell_type": "markdown",
   "id": "163c8fd7",
   "metadata": {},
   "source": [
    "## How many FREE apps are there in ART_AND_DESIGN"
   ]
  },
  {
   "cell_type": "code",
   "execution_count": 277,
   "id": "1ccacaba",
   "metadata": {},
   "outputs": [
    {
     "name": "stdout",
     "output_type": "stream",
     "text": [
      "61\n"
     ]
    }
   ],
   "source": [
    "\n",
    "#c = 0 \n",
    "\n",
    "#for i in data:\n",
    "#    if(i[1] == 'ART_AND_DESIGN' and i[6] == 'Free'):\n",
    "#        c += 1\n",
    "        \n",
    "#print(\"There are\",c,'free apps from ART_AND_DESIGN')\n",
    "\n",
    "data_pr = data[data['Category'] =='ART_AND_DESIGN']\n",
    "print(len(data_pr[data_pr['Type']=='Free']))"
   ]
  },
  {
   "cell_type": "markdown",
   "id": "c7b2e272",
   "metadata": {},
   "source": [
    "## How many apps are there in ART_AND_DESIGN with rating more then 4.5?"
   ]
  },
  {
   "cell_type": "code",
   "execution_count": 278,
   "id": "3b2a00a8",
   "metadata": {},
   "outputs": [
    {
     "name": "stdout",
     "output_type": "stream",
     "text": [
      "22\n"
     ]
    }
   ],
   "source": [
    "#c = 0\n",
    "#for i in data:\n",
    "    #if (i[1]==\"ART_AND_DESIGN\" and i[2]>4.5):\n",
    "        #c +=1\n",
    "#print(\"There are\",c,\"number of ART_AND_DESIGN apps with ratings more than 4.5\")\n",
    "\n",
    "dr= data[data['Category']=='ART_AND_DESIGN']\n",
    "print(len(dr[dr['Rating']>4.5]))"
   ]
  },
  {
   "cell_type": "markdown",
   "id": "4056d177",
   "metadata": {},
   "source": [
    "## How many apps are there in FAMILY with rating more then 4.5 and Free?"
   ]
  },
  {
   "cell_type": "code",
   "execution_count": 279,
   "id": "93c02650",
   "metadata": {},
   "outputs": [
    {
     "name": "stdout",
     "output_type": "stream",
     "text": [
      "314\n"
     ]
    }
   ],
   "source": [
    "#c = 0 \n",
    "#for i in data:\n",
    "#    if (i[1]==\"FAMILY\" and i[2]>4.5 and i[6]==\"Free\"):\n",
    "#        c +=1\n",
    "#print(\"There are\",c,\"number of FAMILY apps with ratings more than 4.5 and are Free\")\n",
    "\n",
    "dc= data[data['Category']=='FAMILY']\n",
    "dr=dc[dc['Rating']>4.5]\n",
    "print(len(dr[dr['Type']=='Free']))\n"
   ]
  },
  {
   "cell_type": "markdown",
   "id": "b33e9b80",
   "metadata": {},
   "source": [
    "## List all the free apps with rating more then 4.5 and category is FAMILY?"
   ]
  },
  {
   "cell_type": "code",
   "execution_count": 280,
   "id": "9ef0930d",
   "metadata": {
    "scrolled": false
   },
   "outputs": [
    {
     "name": "stdout",
     "output_type": "stream",
     "text": [
      "****************************************************************************************************\n",
      "LIST OF FREE APPS THAT BELONGS TO CATEGORY FAMILY WITH RATINGS MORE THAN 4.5\n",
      "****************************************************************************************************\n",
      "Super ABC! Learning games for kids! Preschool apps\n",
      "Candy Pop Story\n",
      "Dog Run - Pet Dog Simulator\n",
      "Puzzle Kids - Animals Shapes and Jigsaw Puzzles\n",
      "No. Color - Color by Number, Number Coloring\n",
      "Garden Fruit Legend\n",
      "Piano Kids - Music & Songs\n",
      "Duolingo: Learn Languages Free\n",
      "Super ABC! Learning games for kids! Preschool apps\n",
      "Drawing for Kids Learning Games for Toddlers age 3\n",
      "Baby ABC in box! Kids alphabet games for toddlers!\n",
      "Henry Danger Crime Warp\n",
      "Fruit Cube Blast\n",
      "Toddler Kids Puzzles PUZZINGO\n",
      "Fuzzy Seasons: Animal Forest\n",
      "Dog Run - Pet Dog Simulator\n",
      "My Oasis - Calming and Relaxing Idle Clicker Game\n",
      "Ninja Dash - Ronin Jump RPG\n",
      "Monster High™ Minis Mania\n",
      "Monica Toy TV\n",
      "Sworkit Kids - Fitness Meets Fun\n",
      "Crazy Colors: Bubbles Matching\n",
      "Pino chess\n",
      "Duolingo: Learn Languages Free\n",
      "Animal Jam - Play Wild!\n",
      "Dog Sim Online: Raise a Family\n",
      "Color by Number - Draw Sandbox Pixel Art\n",
      "Build a Bridge!\n",
      "Find a Way: Addictive Puzzle\n",
      "CompTIA Exam Training\n",
      "Gymnastics Superstar - Spin your way to gold!\n",
      "Hungry Hearts Diner: A Tale of Star-Crossed Souls\n",
      "Dragon Sim Online: Be A Dragon\n",
      "Cat Sim Online: Play with Cats\n",
      "Clash of Clans\n",
      "Clash Royale\n",
      "Learn C++\n",
      "C Programming Zone\n",
      "All C Programs\n",
      "codeEazy - C/C++/JAVA\n",
      "C Functions\n",
      "Learn Basic C - For Beginners\n",
      "C Prowess\n",
      "101 C Programming Problems\n",
      "C BOOK-C PROGRAMS\n",
      "Eternium\n",
      "Harris J Lyrics\n",
      "2048 BTS J Hope KPop Puzzle Game\n",
      "J. Cole Albums (2007-2017)\n",
      "K-Otic Universe\n",
      "CASE K-12 Math English Science\n",
      "K-Spapp, the K-Space app\n",
      "EXO-L\n",
      "Fantastic Chefs: Match 'n Cook\n",
      "Twitch: Livestream Multiplayer Games & Esports\n",
      "Channel U\n",
      "Get Free V-bucks_fortnite Hints\n",
      "Easy V-Bux free\n",
      "X-Wing Squadron Builder\n",
      "JW Caleb y Sofia\n",
      "PewDiePie's Tuber Simulator\n",
      "Z-Empire: Dead Strike\n",
      "Angry Birds Blast\n",
      "Angry Birds Match\n",
      "Angry Birds 2\n",
      "Alchemy Classic Ad Free\n",
      "Nasihat - Chalo ae Pyaara\n",
      "9GAG: Funny Gifs, Pics, Memes & Videos for IGTV\n",
      "Orbita AI — Exciting mobile puzzles & riddles\n",
      "Learn Artificial Intelligence\n",
      "Animal Jam - Play Wild!\n",
      "AJ Official\n",
      "Little Pets Animal Guardians\n",
      "AJ Rafael Music Lessons\n",
      "Weapon stripping 3D\n",
      "Al jazeera TV\n",
      "Al Quran Audio (Full 30 Juz)\n",
      "Quran for All (Al-Huda Int.)\n",
      "Ayat - Al Quran\n",
      "Quran Juz-30 - Mahad al Zahra\n",
      "Al Quran MP3 - Quran Reading®\n",
      "Al-Quran Ahmad Saud Offline\n",
      "Virtual lover\n",
      "virtual lover 3D\n",
      "Bubbu – My Virtual Pet\n",
      "AP® Guide\n",
      "AP Mobile\n",
      "Study AP World History\n",
      "AP Chemistry Prep: Practice Tests and Flashcards\n",
      "AP World History: Practice Tests and Flashcards\n",
      "AP Biology Prep: Practice Tests, Flashcards\n",
      "AP European History: Practice Tests and Flashcards\n",
      "Adventure Quest World Mobile Quiz\n",
      "AQ Ria Retail\n",
      "Accounting Quiz (AQ) Malaysia\n",
      "Wowkwis aq Ka'qaquj\n",
      "Questland: Turn Based RPG\n",
      "Grow Stone Online : 2d pixel RPG, MMORPG game\n",
      "Egg, Inc.\n",
      "Choices: Stories You Play\n",
      "Aw Restaurant\n",
      "AW Training\n",
      "Anime Expo 2018\n",
      "INTERACTIVE CALCULUS FOR MATHS AND PHYSICS\n",
      "Pinoy Kid Song Ako ay may Lobo\n",
      "Quran Khmer Offline AY\n",
      "Permit Test AZ Arizona MVD DOT\n",
      "Catalyst AZ\n",
      "Az Video Status\n",
      "Goody.ba\n",
      "Learn alif ba ta\n",
      "Arabic Alphabet Alif Ba Ta Wooden Blocks\n",
      "Let's Learn Alif Ba Ta\n",
      "Sufara.ba\n",
      "Elif Ba - Learn The Holy Quran\n",
      "Elifba Quran Learning Game\n",
      "Railroad Radio Vancouver BC\n",
      "BD Online Passport Application\n",
      "BD Hospital's\n",
      "Exam Result BD\n",
      "BG Future School\n",
      "Learn Bulgarian Free\n",
      "Bh Public School\n",
      "BH Challenge - Museum of the Jewish People\n",
      "Bitmoji – Your Personal Emoji\n",
      "Business Intelligence & Data\n",
      "TED\n",
      "English Grammar Test\n",
      "HON. B.J. ACS COLLEGE ALE\n",
      "BK Video Status\n",
      "Audio Murli Glossary For BK\n",
      "Baba Yaad Hai?(BK's)\n",
      "BK murli today (Mobile Murli) - Gyan\n",
      "BK Murli Dictionary (H to E)\n",
      "BkEmu - BK-0010/11M emulator\n",
      "Cerulean Heart\n",
      "あなカレ【BL】無料ゲーム\n",
      "BM SPM Practice\n",
      "Township\n",
      "Blood Pressure Diary\n",
      "RoboPad\n",
      "Br Shafi\n",
      "Companion for Fortnite & Fortnite Battle Royale\n",
      "Vlogger Go Viral - Tuber Game\n",
      "Loved by King Bs\n",
      "BS CS IT & SE\n",
      "Marked by King Bs\n",
      "COMSATS BOOK STORE FOR BS(CS)\n",
      "Beauty Rental Shop\n",
      "Sleeping Delivery\n",
      "Wifi BT Scanner\n",
      "BU Study\n",
      "Barisal University App-BU Face\n",
      "BU Students' Rep. Council\n",
      "BU Calculator\n",
      "BV Sridhara Maharaj\n",
      "Quadratic Equation Solver with Steps and Graphs\n",
      "Sandbox - Color by Number Coloring Pages\n",
      "Sandbox Art-Sandbox Color by Number Coloring Pages\n",
      "Color By Number - Sandbox Pixel Coloring Book\n",
      "PixelDot - Color by Number Sandbox Pixel Art\n",
      "PixPanda - Color by Number Pixel Art Coloring Book\n",
      "Pixyfy: coloring by number coloring book\n",
      "Draw Color by Number - Sandbox Pixel Art\n",
      "Butterfly Pixel Art - coloring by number\n",
      "Color by Number: Pixel Art\n",
      "UNICORN - Color By Number & Pixel Art Coloring\n",
      "FunnyPixels - Color by number Sandbox\n",
      "No.Diamond – Colors by Number\n",
      "Park Limousine: Realistic Limo Parking Simulator\n",
      "CB News\n",
      "CB Register\n",
      "CD CHOICE TUBE\n",
      "Yazdani Cd Center EllahAbad Official App\n",
      "MCQ CE IT\n",
      "Magana Jari ce Littafi Na Uku : Part 3 of 3\n",
      "CF Life\n",
      "All Info about Cg\n",
      "CG FM\n",
      "CG - Chemistry free\n",
      "CG Jobs\n",
      "BF CG Abstract Pictures\n",
      "CI Dictionary\n",
      "Sir C J New Primary School\n",
      "Louis CK\n",
      "Tic Tac CK\n",
      "Castle Clash: Heroes of the Empire US\n",
      "Cartoon Network Match Land\n",
      "Super Slime Blitz - Gumball\n",
      "Surely You Quest - Magiswords\n",
      "We Bare Bears Match3 Repairs\n",
      "Champions and Challengers - Adventure Time\n",
      "CN Resident\n",
      "CP Channel\n",
      "Foothills CP\n",
      "Cp Calculator for Evolution:GO\n",
      "ClanManagerTT2\n",
      "Christian Questions Podcast\n",
      "CR & CoC Private Server - Clash Barbarians PRO\n",
      "Ultimate Clash Royale Tracker\n",
      "Servidor Privado de CR y CoC - Light Royale\n",
      "Deck Shop for Clash Royale\n",
      "Cr Aviation Academy\n",
      "CS Interview Questions (TechQ)\n",
      "DU CS Lectures - Learn to Code for Free\n",
      "CS & IT Interview Questions\n",
      "CA CS Network\n",
      "CT Scan Generations\n",
      "CT Brain Interpretation\n",
      "Permit Test Connecticut CT DMV\n",
      "Cy-Reader\n",
      "MadLipz\n",
      "DB Tools\n",
      "DB for Hustle Castle\n",
      "MARVEL Future Fight\n",
      "DC N COMPANY ENTERTAINMENT RADIO!\n",
      "Driver Permit Test Prep DC DMV Driver's License Ed\n",
      "Coloring Book for Me & Mandala\n",
      "Anime Love Story Games: ✨Shadowtime✨\n",
      "DH-UFO\n",
      "Idle Heroes\n",
      "Duolingo: Learn Languages Free\n",
      "PK and DK Audio App\n",
      "dk\n",
      "Account Class-12 Solutions (D K Goel) Vol-2\n",
      "DL Hughley\n",
      "DM Buddy » Learn Digital Marketing\n",
      "Disciple Maker’s (DM) Lab\n",
      "DN Employee\n",
      "Dragon Nest M\n",
      "CritDice - Dice Roller\n",
      "Maher EL Mouaikly - Offline\n",
      "Darkness Rises\n",
      "Latest DP and Status Pro 2018\n",
      "Faceoff DP Battle App\n",
      "RPG Dragon Lapis\n",
      "DQSalmaan - A fan made App\n",
      "DS\n",
      "MegaN64 (N64 Emulator)\n",
      "DS-Students\n",
      "DT Driving Test Theory\n",
      "WPBS-DT\n",
      "Du Chinese – Mandarin Lessons\n",
      "DV ASSIST\n",
      "DV Lottery Simulator\n",
      "DV-2019 UK/British\n",
      "DW Audio\n",
      "German Listening\n",
      "Piczle Lines DX\n",
      "DX Simulation for OOO Dx Belt\n",
      "DX Simulation for Kabuto Henshin Belt 2018\n",
      "DX Simulation for Double Dx Henshin Belt 2018\n",
      "KPS CHAUHAN DY/DX\n",
      "DYPSOET\n",
      "Typical EA Game\n",
      "EC Calgary\n",
      "EC Fairgrounds\n",
      "GATE Syllabus for EC 2018 & Notifications\n",
      "English Conversation Courses\n",
      "Dance Magic Fashion Style Games\n",
      "EI国际\n",
      "TeamWard – live help for LoL\n",
      "Master E.K\n",
      "Ek Onkar\n",
      "Pyaar Ek Dhoka\n",
      "Ek Bander Ne Kholi Dukan\n",
      "Toilet Ek Prem Katha Songs Lyrics in Hindi\n",
      "Sanu Ek Pal Chain Song Videos - RAID Movie Songs\n",
      "Ek Qissa He Quran Se (Qurani Waqiyat)\n",
      "Lyrics of Ek Paheli Leela\n",
      "Exiled Kingdoms RPG\n",
      "Shabad Gurubani Punjabi mp3 free - Ek Onkar Satnam\n",
      "El Falı\n",
      "OWLIE BOO\n",
      "Narcos: Cartel Wars\n",
      "Hello English: Learn English\n",
      "Learn Top 300 English Words\n",
      "Masha and the Bear. Games for kids\n",
      "Masha and The Bear Jam Day Match 3 games for kids\n",
      "Masha and the Bear: Good Night!\n",
      "EP Radio\n",
      "Super Doctor 2 - My Newborn Baby ER Injection\n",
      "Open Heart Surgery Hospital ER: Crazy Doctor Sim\n",
      "YEBIS OpenGL ES 3.0 Tech Demo\n",
      "Advanced calculator fx 991 es plus & 991 ms plus\n",
      "Castle Clash: Epic Empire ES\n",
      "School scientific calculator fx 500 es plus 500 ms\n",
      "Lettre et demande d'emploi\n",
      "daskal.eu\n",
      "PokeType - Dex\n",
      "Pink Guy - Ey B0ss\n",
      "Ey Sey Storytime រឿងនិទានតាឥសី\n",
      "Fallout Shelter\n",
      "Story Time FD\n",
      "FD VR Music Videos - MTV Pop and Rap in 360\n",
      "Fire Emblem Heroes\n",
      "Safe Santa Fe\n",
      "POLARIS 2MFG\n",
      "Puzzles Volvo FH 16 Trucks\n",
      "Jigsaw Volvo FH 16 Trucks\n",
      "FH School\n",
      "FK Željezničar Izzy\n",
      "Permit Test FL Florida DHSMV\n",
      "FL Lottery Results\n",
      "Scratch-Off Guide for FL Lotto\n",
      "Canvas FL\n",
      "Florida Wildflowers\n",
      "How it Works: FN SCAR assault rifle\n",
      "Ninja FN Button\n",
      "Pin-fo\n",
      "Fr Ignacio Outreach\n",
      "Castle Clash: RPG War and Strategy FR\n",
      "Fr. Daoud Lamei\n",
      "Fr. Mike Schmitz Audio Teachings\n"
     ]
    }
   ],
   "source": [
    "print('*'*100)\n",
    "print(\"LIST OF FREE APPS THAT BELONGS TO CATEGORY FAMILY WITH RATINGS MORE THAN 4.5\")\n",
    "print('*'*100)\n",
    "#for i in data:\n",
    "#    if (i[1]==\"FAMILY\" and i[2]>4.5 and i[6]==\"Free\"):\n",
    "#        print(i[0])\n",
    "\n",
    "dt=data[data['Type']=='Free']\n",
    "dt=dt[dt['Rating']>4.5]\n",
    "result = dt[dt['Category']=='FAMILY'].values\n",
    "\n",
    "for i in result:\n",
    "    print(i[0])\n",
    "    "
   ]
  },
  {
   "cell_type": "markdown",
   "id": "e167119d",
   "metadata": {},
   "source": [
    "## Which category is having maximum average rating Descending order?"
   ]
  },
  {
   "cell_type": "code",
   "execution_count": 281,
   "id": "66484e67",
   "metadata": {},
   "outputs": [
    {
     "data": {
      "text/plain": [
       "Category\n",
       "EDUCATION              4.387778\n",
       "ART_AND_DESIGN         4.368438\n",
       "EVENTS                 4.363647\n",
       "BOOKS_AND_REFERENCE    4.311537\n",
       "PERSONALIZATION        4.306873\n",
       "GAME                   4.282506\n",
       "PARENTING              4.282223\n",
       "HEALTH_AND_FITNESS     4.266296\n",
       "BEAUTY                 4.260882\n",
       "SHOPPING               4.254052\n",
       "SOCIAL                 4.248001\n",
       "WEATHER                4.239675\n",
       "SPORTS                 4.218404\n",
       "PRODUCTIVITY           4.208287\n",
       "HOUSE_AND_HOME         4.196819\n",
       "FAMILY                 4.192490\n",
       "PHOTOGRAPHY            4.192179\n",
       "AUTO_AND_VEHICLES      4.190824\n",
       "MEDICAL                4.190167\n",
       "LIBRARIES_AND_DEMO     4.182938\n",
       "FOOD_AND_DRINK         4.170709\n",
       "COMMUNICATION          4.163842\n",
       "COMICS                 4.156445\n",
       "BUSINESS               4.145987\n",
       "NEWS_AND_MAGAZINES     4.142993\n",
       "FINANCE                4.139108\n",
       "ENTERTAINMENT          4.126174\n",
       "TRAVEL_AND_LOCAL       4.119716\n",
       "LIFESTYLE              4.112427\n",
       "VIDEO_PLAYERS          4.074858\n",
       "TOOLS                  4.065970\n",
       "MAPS_AND_NAVIGATION    4.065061\n",
       "DATING                 4.007864\n",
       "Name: Rating, dtype: float64"
      ]
     },
     "execution_count": 281,
     "metadata": {},
     "output_type": "execute_result"
    }
   ],
   "source": [
    "data.groupby('Category').mean()['Rating'].sort_values(ascending= False)"
   ]
  },
  {
   "cell_type": "markdown",
   "id": "3d2f3f54",
   "metadata": {},
   "source": [
    "##  How many paid apps are there in each category in Descending Order"
   ]
  },
  {
   "cell_type": "code",
   "execution_count": 282,
   "id": "1ad5f784",
   "metadata": {},
   "outputs": [
    {
     "data": {
      "text/plain": [
       "Category\n",
       "FAMILY                 190\n",
       "MEDICAL                109\n",
       "GAME                    83\n",
       "PERSONALIZATION         82\n",
       "TOOLS                   77\n",
       "BOOKS_AND_REFERENCE     28\n",
       "PRODUCTIVITY            28\n",
       "COMMUNICATION           27\n",
       "SPORTS                  24\n",
       "PHOTOGRAPHY             22\n",
       "LIFESTYLE               19\n",
       "FINANCE                 17\n",
       "HEALTH_AND_FITNESS      16\n",
       "BUSINESS                14\n",
       "TRAVEL_AND_LOCAL        12\n",
       "WEATHER                  8\n",
       "DATING                   7\n",
       "MAPS_AND_NAVIGATION      5\n",
       "EDUCATION                4\n",
       "VIDEO_PLAYERS            4\n",
       "AUTO_AND_VEHICLES        3\n",
       "SOCIAL                   3\n",
       "ART_AND_DESIGN           3\n",
       "NEWS_AND_MAGAZINES       2\n",
       "PARENTING                2\n",
       "FOOD_AND_DRINK           2\n",
       "SHOPPING                 2\n",
       "ENTERTAINMENT            2\n",
       "LIBRARIES_AND_DEMO       1\n",
       "EVENTS                   1\n",
       "Name: Type, dtype: int64"
      ]
     },
     "execution_count": 282,
     "metadata": {},
     "output_type": "execute_result"
    }
   ],
   "source": [
    "data_pr = data[data['Type']== 'Paid']\n",
    "data_pr.groupby('Category').count()['Type'].sort_values(ascending= False)"
   ]
  }
 ],
 "metadata": {
  "kernelspec": {
   "display_name": "Python 3 (ipykernel)",
   "language": "python",
   "name": "python3"
  },
  "language_info": {
   "codemirror_mode": {
    "name": "ipython",
    "version": 3
   },
   "file_extension": ".py",
   "mimetype": "text/x-python",
   "name": "python",
   "nbconvert_exporter": "python",
   "pygments_lexer": "ipython3",
   "version": "3.9.13"
  }
 },
 "nbformat": 4,
 "nbformat_minor": 5
}
